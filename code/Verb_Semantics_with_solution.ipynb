{
 "cells": [
  {
   "cell_type": "markdown",
   "metadata": {},
   "source": [
    "# A verb's usage-based meaning"
   ]
  },
  {
   "cell_type": "markdown",
   "metadata": {},
   "source": [
    "Can we learn when to use the verb **start** and when to use the verb **begin** from exposure to examples?\n",
    "\n",
    "- The movie `_________` at 7:30pm.\n",
    "- The car wouldn't `_________`.\n",
    "- My grandfather `_________` his company in 1927.\n",
    "- The meeting `_________` at 9am.\n",
    "- We should `_________` early, before traffic gets busy.\n",
    "- The day `_________` well.\n"
   ]
  },
  {
   "cell_type": "code",
   "execution_count": 1,
   "metadata": {},
   "outputs": [],
   "source": [
    "from itertools import chain         # embedded list to chain of lists\n",
    "from itertools import repeat        # repeating element(s) in a list\n",
    "from collections import Counter     # count unique items\n",
    "from scipy.sparse import dok_matrix # sparse logical (binary) matrix\n",
    "import numpy as np\n",
    "import pandas as pd"
   ]
  },
  {
   "cell_type": "code",
   "execution_count": 2,
   "metadata": {},
   "outputs": [
    {
     "data": {
      "text/html": [
       "<div>\n",
       "<style scoped>\n",
       "    .dataframe tbody tr th:only-of-type {\n",
       "        vertical-align: middle;\n",
       "    }\n",
       "\n",
       "    .dataframe tbody tr th {\n",
       "        vertical-align: top;\n",
       "    }\n",
       "\n",
       "    .dataframe thead th {\n",
       "        text-align: right;\n",
       "    }\n",
       "</style>\n",
       "<table border=\"1\" class=\"dataframe\">\n",
       "  <thead>\n",
       "    <tr style=\"text-align: right;\">\n",
       "      <th></th>\n",
       "      <th>Cues</th>\n",
       "      <th>Outcomes</th>\n",
       "    </tr>\n",
       "  </thead>\n",
       "  <tbody>\n",
       "    <tr>\n",
       "      <th>0</th>\n",
       "      <td>commence_journey</td>\n",
       "      <td>START</td>\n",
       "    </tr>\n",
       "    <tr>\n",
       "      <th>1</th>\n",
       "      <td>commence_machine</td>\n",
       "      <td>START</td>\n",
       "    </tr>\n",
       "    <tr>\n",
       "      <th>2</th>\n",
       "      <td>commence_movie</td>\n",
       "      <td>START</td>\n",
       "    </tr>\n",
       "    <tr>\n",
       "      <th>3</th>\n",
       "      <td>commence_movie</td>\n",
       "      <td>START</td>\n",
       "    </tr>\n",
       "    <tr>\n",
       "      <th>4</th>\n",
       "      <td>commence_meeting</td>\n",
       "      <td>BEGIN</td>\n",
       "    </tr>\n",
       "  </tbody>\n",
       "</table>\n",
       "</div>"
      ],
      "text/plain": [
       "               Cues Outcomes\n",
       "0  commence_journey    START\n",
       "1  commence_machine    START\n",
       "2    commence_movie    START\n",
       "3    commence_movie    START\n",
       "4  commence_meeting    BEGIN"
      ]
     },
     "execution_count": 2,
     "metadata": {},
     "output_type": "execute_result"
    }
   ],
   "source": [
    "semantic = pd.read_csv('../data/semantic_example.csv')\n",
    "semantic.head()"
   ]
  },
  {
   "cell_type": "code",
   "execution_count": 3,
   "metadata": {},
   "outputs": [
    {
     "data": {
      "text/html": [
       "<div>\n",
       "<style scoped>\n",
       "    .dataframe tbody tr th:only-of-type {\n",
       "        vertical-align: middle;\n",
       "    }\n",
       "\n",
       "    .dataframe tbody tr th {\n",
       "        vertical-align: top;\n",
       "    }\n",
       "\n",
       "    .dataframe thead th {\n",
       "        text-align: right;\n",
       "    }\n",
       "</style>\n",
       "<table border=\"1\" class=\"dataframe\">\n",
       "  <thead>\n",
       "    <tr style=\"text-align: right;\">\n",
       "      <th></th>\n",
       "      <th>Cues</th>\n",
       "      <th>Outcomes</th>\n",
       "    </tr>\n",
       "  </thead>\n",
       "  <tbody>\n",
       "    <tr>\n",
       "      <th>0</th>\n",
       "      <td>[commence, journey]</td>\n",
       "      <td>[START]</td>\n",
       "    </tr>\n",
       "    <tr>\n",
       "      <th>1</th>\n",
       "      <td>[commence, machine]</td>\n",
       "      <td>[START]</td>\n",
       "    </tr>\n",
       "    <tr>\n",
       "      <th>2</th>\n",
       "      <td>[commence, movie]</td>\n",
       "      <td>[START]</td>\n",
       "    </tr>\n",
       "    <tr>\n",
       "      <th>3</th>\n",
       "      <td>[commence, movie]</td>\n",
       "      <td>[START]</td>\n",
       "    </tr>\n",
       "    <tr>\n",
       "      <th>4</th>\n",
       "      <td>[commence, meeting]</td>\n",
       "      <td>[BEGIN]</td>\n",
       "    </tr>\n",
       "  </tbody>\n",
       "</table>\n",
       "</div>"
      ],
      "text/plain": [
       "                  Cues Outcomes\n",
       "0  [commence, journey]  [START]\n",
       "1  [commence, machine]  [START]\n",
       "2    [commence, movie]  [START]\n",
       "3    [commence, movie]  [START]\n",
       "4  [commence, meeting]  [BEGIN]"
      ]
     },
     "execution_count": 3,
     "metadata": {},
     "output_type": "execute_result"
    }
   ],
   "source": [
    "semantic = semantic.applymap(lambda x : x.split('_'))\n",
    "semantic.head()"
   ]
  },
  {
   "cell_type": "code",
   "execution_count": 4,
   "metadata": {},
   "outputs": [
    {
     "data": {
      "text/plain": [
       "Counter({'commence': 81,\n",
       "         'journey': 2,\n",
       "         'machine': 11,\n",
       "         'movie': 29,\n",
       "         'meeting': 26,\n",
       "         'day': 11,\n",
       "         'business': 2})"
      ]
     },
     "execution_count": 4,
     "metadata": {},
     "output_type": "execute_result"
    }
   ],
   "source": [
    "Counter(chain.from_iterable(semantic['Cues'].to_list()))"
   ]
  },
  {
   "cell_type": "code",
   "execution_count": 5,
   "metadata": {},
   "outputs": [
    {
     "data": {
      "text/plain": [
       "['commence', 'journey', 'machine', 'movie', 'meeting', 'day', 'business']"
      ]
     },
     "execution_count": 5,
     "metadata": {},
     "output_type": "execute_result"
    }
   ],
   "source": [
    "all_cues = list(Counter(chain.from_iterable(semantic['Cues'].to_list())).keys())\n",
    "all_cues"
   ]
  },
  {
   "cell_type": "code",
   "execution_count": 6,
   "metadata": {},
   "outputs": [
    {
     "data": {
      "text/plain": [
       "Counter({'START': 46, 'BEGIN': 35})"
      ]
     },
     "execution_count": 6,
     "metadata": {},
     "output_type": "execute_result"
    }
   ],
   "source": [
    "Counter(chain.from_iterable(semantic['Outcomes'].to_list()))"
   ]
  },
  {
   "cell_type": "code",
   "execution_count": 7,
   "metadata": {},
   "outputs": [
    {
     "data": {
      "text/plain": [
       "['START', 'BEGIN']"
      ]
     },
     "execution_count": 7,
     "metadata": {},
     "output_type": "execute_result"
    }
   ],
   "source": [
    "all_outcomes = list(Counter(chain.from_iterable(semantic['Outcomes'].to_list())).keys())\n",
    "all_outcomes"
   ]
  },
  {
   "cell_type": "code",
   "execution_count": 8,
   "metadata": {},
   "outputs": [],
   "source": [
    "num_events = len(semantic.index)\n",
    "num_cues = len(all_cues)\n",
    "num_outcomes = len(all_outcomes)"
   ]
  },
  {
   "cell_type": "code",
   "execution_count": 9,
   "metadata": {},
   "outputs": [],
   "source": [
    "cue_matrix = dok_matrix((num_events, num_cues), dtype=bool)\n",
    "outcome_matrix = dok_matrix((num_events, num_outcomes), dtype=bool)"
   ]
  },
  {
   "cell_type": "code",
   "execution_count": 10,
   "metadata": {},
   "outputs": [],
   "source": [
    "for idx, row in semantic.iterrows():\n",
    "\tfor cue in row['Cues']:\n",
    "\t\tcue_index = all_cues.index(cue)\n",
    "\t\tcue_matrix[idx, cue_index] = True\n",
    "\tfor outcome in row['Outcomes']:\n",
    "\t\toutcome_index = all_outcomes.index(outcome)\n",
    "\t\toutcome_matrix[idx, outcome_index] = True"
   ]
  },
  {
   "cell_type": "code",
   "execution_count": 11,
   "metadata": {},
   "outputs": [],
   "source": [
    "cue_nhot_matrix = pd.DataFrame(cue_matrix.todense().tolist(),\n",
    "\tcolumns=all_cues, dtype=int)\n",
    "outcome_nhot_matrix = pd.DataFrame(outcome_matrix.todense().tolist(),\n",
    "\tcolumns=all_outcomes, dtype=int)"
   ]
  },
  {
   "cell_type": "code",
   "execution_count": 12,
   "metadata": {},
   "outputs": [
    {
     "data": {
      "text/html": [
       "<div>\n",
       "<style scoped>\n",
       "    .dataframe tbody tr th:only-of-type {\n",
       "        vertical-align: middle;\n",
       "    }\n",
       "\n",
       "    .dataframe tbody tr th {\n",
       "        vertical-align: top;\n",
       "    }\n",
       "\n",
       "    .dataframe thead th {\n",
       "        text-align: right;\n",
       "    }\n",
       "</style>\n",
       "<table border=\"1\" class=\"dataframe\">\n",
       "  <thead>\n",
       "    <tr style=\"text-align: right;\">\n",
       "      <th></th>\n",
       "      <th>commence</th>\n",
       "      <th>journey</th>\n",
       "      <th>machine</th>\n",
       "      <th>movie</th>\n",
       "      <th>meeting</th>\n",
       "      <th>day</th>\n",
       "      <th>business</th>\n",
       "      <th>START</th>\n",
       "      <th>BEGIN</th>\n",
       "    </tr>\n",
       "  </thead>\n",
       "  <tbody>\n",
       "    <tr>\n",
       "      <th>0</th>\n",
       "      <td>1</td>\n",
       "      <td>1</td>\n",
       "      <td>0</td>\n",
       "      <td>0</td>\n",
       "      <td>0</td>\n",
       "      <td>0</td>\n",
       "      <td>0</td>\n",
       "      <td>1</td>\n",
       "      <td>0</td>\n",
       "    </tr>\n",
       "    <tr>\n",
       "      <th>1</th>\n",
       "      <td>1</td>\n",
       "      <td>0</td>\n",
       "      <td>1</td>\n",
       "      <td>0</td>\n",
       "      <td>0</td>\n",
       "      <td>0</td>\n",
       "      <td>0</td>\n",
       "      <td>1</td>\n",
       "      <td>0</td>\n",
       "    </tr>\n",
       "    <tr>\n",
       "      <th>2</th>\n",
       "      <td>1</td>\n",
       "      <td>0</td>\n",
       "      <td>0</td>\n",
       "      <td>1</td>\n",
       "      <td>0</td>\n",
       "      <td>0</td>\n",
       "      <td>0</td>\n",
       "      <td>1</td>\n",
       "      <td>0</td>\n",
       "    </tr>\n",
       "    <tr>\n",
       "      <th>3</th>\n",
       "      <td>1</td>\n",
       "      <td>0</td>\n",
       "      <td>0</td>\n",
       "      <td>1</td>\n",
       "      <td>0</td>\n",
       "      <td>0</td>\n",
       "      <td>0</td>\n",
       "      <td>1</td>\n",
       "      <td>0</td>\n",
       "    </tr>\n",
       "    <tr>\n",
       "      <th>4</th>\n",
       "      <td>1</td>\n",
       "      <td>0</td>\n",
       "      <td>0</td>\n",
       "      <td>0</td>\n",
       "      <td>1</td>\n",
       "      <td>0</td>\n",
       "      <td>0</td>\n",
       "      <td>0</td>\n",
       "      <td>1</td>\n",
       "    </tr>\n",
       "  </tbody>\n",
       "</table>\n",
       "</div>"
      ],
      "text/plain": [
       "   commence  journey  machine  movie  meeting  day  business  START  BEGIN\n",
       "0         1        1        0      0        0    0         0      1      0\n",
       "1         1        0        1      0        0    0         0      1      0\n",
       "2         1        0        0      1        0    0         0      1      0\n",
       "3         1        0        0      1        0    0         0      1      0\n",
       "4         1        0        0      0        1    0         0      0      1"
      ]
     },
     "execution_count": 12,
     "metadata": {},
     "output_type": "execute_result"
    }
   ],
   "source": [
    "pd.concat([cue_nhot_matrix.reset_index(drop=True), outcome_nhot_matrix], axis=1).head()"
   ]
  },
  {
   "cell_type": "markdown",
   "metadata": {},
   "source": [
    "$$ \\Delta w_{i} = \\gamma  \\times x_{i}^{T} \\times (t - y_{in}) $$"
   ]
  },
  {
   "cell_type": "code",
   "execution_count": 13,
   "metadata": {},
   "outputs": [],
   "source": [
    "def update_weights(cues, outcomes, old_weights, learning_rate):\n",
    "\t\"\"\"\n",
    "\tUpdating weights for Widrow-Hoff / Delta / Least Mean Square (LMS) Rule\n",
    "\t----------\n",
    "\tcues          : input learning cues\n",
    "\toutcomes      : outcomes (targets, criteria)\n",
    "\told_weights   : old weight values (in previous time step of learning)\n",
    "\tlearning_rate : rate of learning (speed of change)\n",
    "\t\"\"\"\n",
    "\tnew_weights = old_weights + (learning_rate * cues.T * (outcomes - (cues * old_weights)))\n",
    "\treturn(new_weights)"
   ]
  },
  {
   "cell_type": "code",
   "execution_count": 14,
   "metadata": {},
   "outputs": [],
   "source": [
    "weight_matrix = np.zeros((num_cues, num_outcomes))"
   ]
  },
  {
   "cell_type": "code",
   "execution_count": 15,
   "metadata": {},
   "outputs": [],
   "source": [
    "for idx in range(num_events):\n",
    "\tcurrent_cues = np.matrix(cue_nhot_matrix.iloc[idx,])\n",
    "\tcurrent_outcomes = np.matrix(outcome_nhot_matrix.iloc[idx,])\n",
    "\tweight_matrix = update_weights(\n",
    "\t\tcues=current_cues,\n",
    "\t\toutcomes=current_outcomes,\n",
    "\t\told_weights=weight_matrix,\n",
    "\t\tlearning_rate = 0.01)"
   ]
  },
  {
   "cell_type": "code",
   "execution_count": 16,
   "metadata": {},
   "outputs": [
    {
     "data": {
      "text/html": [
       "<div>\n",
       "<style scoped>\n",
       "    .dataframe tbody tr th:only-of-type {\n",
       "        vertical-align: middle;\n",
       "    }\n",
       "\n",
       "    .dataframe tbody tr th {\n",
       "        vertical-align: top;\n",
       "    }\n",
       "\n",
       "    .dataframe thead th {\n",
       "        text-align: right;\n",
       "    }\n",
       "</style>\n",
       "<table border=\"1\" class=\"dataframe\">\n",
       "  <thead>\n",
       "    <tr style=\"text-align: right;\">\n",
       "      <th></th>\n",
       "      <th>START</th>\n",
       "      <th>BEGIN</th>\n",
       "    </tr>\n",
       "  </thead>\n",
       "  <tbody>\n",
       "    <tr>\n",
       "      <th>commence</th>\n",
       "      <td>0.303431</td>\n",
       "      <td>0.206818</td>\n",
       "    </tr>\n",
       "    <tr>\n",
       "      <th>journey</th>\n",
       "      <td>0.017039</td>\n",
       "      <td>-0.002023</td>\n",
       "    </tr>\n",
       "    <tr>\n",
       "      <th>machine</th>\n",
       "      <td>0.090921</td>\n",
       "      <td>-0.014076</td>\n",
       "    </tr>\n",
       "    <tr>\n",
       "      <th>movie</th>\n",
       "      <td>0.124855</td>\n",
       "      <td>0.048227</td>\n",
       "    </tr>\n",
       "    <tr>\n",
       "      <th>meeting</th>\n",
       "      <td>0.038327</td>\n",
       "      <td>0.114798</td>\n",
       "    </tr>\n",
       "    <tr>\n",
       "      <th>day</th>\n",
       "      <td>0.017899</td>\n",
       "      <td>0.063794</td>\n",
       "    </tr>\n",
       "    <tr>\n",
       "      <th>business</th>\n",
       "      <td>0.014390</td>\n",
       "      <td>-0.003903</td>\n",
       "    </tr>\n",
       "  </tbody>\n",
       "</table>\n",
       "</div>"
      ],
      "text/plain": [
       "             START     BEGIN\n",
       "commence  0.303431  0.206818\n",
       "journey   0.017039 -0.002023\n",
       "machine   0.090921 -0.014076\n",
       "movie     0.124855  0.048227\n",
       "meeting   0.038327  0.114798\n",
       "day       0.017899  0.063794\n",
       "business  0.014390 -0.003903"
      ]
     },
     "execution_count": 16,
     "metadata": {},
     "output_type": "execute_result"
    }
   ],
   "source": [
    "pd.DataFrame(weight_matrix, index=all_cues, columns=all_outcomes)"
   ]
  },
  {
   "cell_type": "markdown",
   "metadata": {},
   "source": [
    "- - -\n",
    "- - -"
   ]
  },
  {
   "cell_type": "markdown",
   "metadata": {},
   "source": [
    "## Plotting\n",
    "\n",
    "Below is a variant that allows you to keep the record of all updates and to visualize the process of learning (developing associations as the data accrues)."
   ]
  },
  {
   "cell_type": "code",
   "execution_count": 17,
   "metadata": {},
   "outputs": [],
   "source": [
    "weight_matrix_2 = np.zeros((num_cues, num_outcomes))\n",
    "weight_matrix_list = list()"
   ]
  },
  {
   "cell_type": "code",
   "execution_count": 18,
   "metadata": {},
   "outputs": [],
   "source": [
    "for idx in range(num_events):\n",
    "\tcurrent_cues = np.matrix(cue_nhot_matrix.iloc[idx,])\n",
    "\tcurrent_outcomes = np.matrix(outcome_nhot_matrix.iloc[idx,])\n",
    "\tweight_matrix_2 = update_weights(\n",
    "\t\tcues=current_cues,\n",
    "\t\toutcomes=current_outcomes,\n",
    "\t\told_weights=weight_matrix_2,\n",
    "\t\tlearning_rate = 0.01)\n",
    "\tweight_matrix_list.append(weight_matrix_2.T.flatten().tolist()[0]) # keeping track of updates"
   ]
  },
  {
   "cell_type": "code",
   "execution_count": 19,
   "metadata": {},
   "outputs": [
    {
     "data": {
      "text/html": [
       "<div>\n",
       "<style scoped>\n",
       "    .dataframe tbody tr th:only-of-type {\n",
       "        vertical-align: middle;\n",
       "    }\n",
       "\n",
       "    .dataframe tbody tr th {\n",
       "        vertical-align: top;\n",
       "    }\n",
       "\n",
       "    .dataframe thead th {\n",
       "        text-align: right;\n",
       "    }\n",
       "</style>\n",
       "<table border=\"1\" class=\"dataframe\">\n",
       "  <thead>\n",
       "    <tr style=\"text-align: right;\">\n",
       "      <th></th>\n",
       "      <th>Trial</th>\n",
       "      <th>Cues</th>\n",
       "      <th>Outcomes</th>\n",
       "      <th>Weights</th>\n",
       "    </tr>\n",
       "  </thead>\n",
       "  <tbody>\n",
       "    <tr>\n",
       "      <th>1120</th>\n",
       "      <td>81</td>\n",
       "      <td>commence</td>\n",
       "      <td>START</td>\n",
       "      <td>0.303431</td>\n",
       "    </tr>\n",
       "    <tr>\n",
       "      <th>1121</th>\n",
       "      <td>81</td>\n",
       "      <td>journey</td>\n",
       "      <td>START</td>\n",
       "      <td>0.017039</td>\n",
       "    </tr>\n",
       "    <tr>\n",
       "      <th>1122</th>\n",
       "      <td>81</td>\n",
       "      <td>machine</td>\n",
       "      <td>START</td>\n",
       "      <td>0.090921</td>\n",
       "    </tr>\n",
       "    <tr>\n",
       "      <th>1123</th>\n",
       "      <td>81</td>\n",
       "      <td>movie</td>\n",
       "      <td>START</td>\n",
       "      <td>0.124855</td>\n",
       "    </tr>\n",
       "    <tr>\n",
       "      <th>1124</th>\n",
       "      <td>81</td>\n",
       "      <td>meeting</td>\n",
       "      <td>START</td>\n",
       "      <td>0.038327</td>\n",
       "    </tr>\n",
       "    <tr>\n",
       "      <th>1125</th>\n",
       "      <td>81</td>\n",
       "      <td>day</td>\n",
       "      <td>START</td>\n",
       "      <td>0.017899</td>\n",
       "    </tr>\n",
       "    <tr>\n",
       "      <th>1126</th>\n",
       "      <td>81</td>\n",
       "      <td>business</td>\n",
       "      <td>START</td>\n",
       "      <td>0.014390</td>\n",
       "    </tr>\n",
       "    <tr>\n",
       "      <th>1127</th>\n",
       "      <td>81</td>\n",
       "      <td>commence</td>\n",
       "      <td>BEGIN</td>\n",
       "      <td>0.206818</td>\n",
       "    </tr>\n",
       "    <tr>\n",
       "      <th>1128</th>\n",
       "      <td>81</td>\n",
       "      <td>journey</td>\n",
       "      <td>BEGIN</td>\n",
       "      <td>-0.002023</td>\n",
       "    </tr>\n",
       "    <tr>\n",
       "      <th>1129</th>\n",
       "      <td>81</td>\n",
       "      <td>machine</td>\n",
       "      <td>BEGIN</td>\n",
       "      <td>-0.014076</td>\n",
       "    </tr>\n",
       "    <tr>\n",
       "      <th>1130</th>\n",
       "      <td>81</td>\n",
       "      <td>movie</td>\n",
       "      <td>BEGIN</td>\n",
       "      <td>0.048227</td>\n",
       "    </tr>\n",
       "    <tr>\n",
       "      <th>1131</th>\n",
       "      <td>81</td>\n",
       "      <td>meeting</td>\n",
       "      <td>BEGIN</td>\n",
       "      <td>0.114798</td>\n",
       "    </tr>\n",
       "    <tr>\n",
       "      <th>1132</th>\n",
       "      <td>81</td>\n",
       "      <td>day</td>\n",
       "      <td>BEGIN</td>\n",
       "      <td>0.063794</td>\n",
       "    </tr>\n",
       "    <tr>\n",
       "      <th>1133</th>\n",
       "      <td>81</td>\n",
       "      <td>business</td>\n",
       "      <td>BEGIN</td>\n",
       "      <td>-0.003903</td>\n",
       "    </tr>\n",
       "  </tbody>\n",
       "</table>\n",
       "</div>"
      ],
      "text/plain": [
       "      Trial      Cues Outcomes   Weights\n",
       "1120     81  commence    START  0.303431\n",
       "1121     81   journey    START  0.017039\n",
       "1122     81   machine    START  0.090921\n",
       "1123     81     movie    START  0.124855\n",
       "1124     81   meeting    START  0.038327\n",
       "1125     81       day    START  0.017899\n",
       "1126     81  business    START  0.014390\n",
       "1127     81  commence    BEGIN  0.206818\n",
       "1128     81   journey    BEGIN -0.002023\n",
       "1129     81   machine    BEGIN -0.014076\n",
       "1130     81     movie    BEGIN  0.048227\n",
       "1131     81   meeting    BEGIN  0.114798\n",
       "1132     81       day    BEGIN  0.063794\n",
       "1133     81  business    BEGIN -0.003903"
      ]
     },
     "execution_count": 19,
     "metadata": {},
     "output_type": "execute_result"
    }
   ],
   "source": [
    "data = {\n",
    "    'Trial'    : [x+1 for x in range(num_events) for _ in range(num_cues * num_outcomes)],\n",
    "    'Cues'     : all_cues * (num_outcomes * num_events),\n",
    "    'Outcomes' : ([all_outcomes[0]] * num_cues + [all_outcomes[1]] * num_cues) * num_events,\n",
    "    'Weights'  : list(chain(*weight_matrix_list))\n",
    "}\n",
    "sim01 = pd.DataFrame(data)\n",
    "sim01.tail(14)"
   ]
  },
  {
   "cell_type": "code",
   "execution_count": 20,
   "metadata": {},
   "outputs": [
    {
     "data": {
      "text/html": [
       "<div>\n",
       "<style scoped>\n",
       "    .dataframe tbody tr th:only-of-type {\n",
       "        vertical-align: middle;\n",
       "    }\n",
       "\n",
       "    .dataframe tbody tr th {\n",
       "        vertical-align: top;\n",
       "    }\n",
       "\n",
       "    .dataframe thead th {\n",
       "        text-align: right;\n",
       "    }\n",
       "</style>\n",
       "<table border=\"1\" class=\"dataframe\">\n",
       "  <thead>\n",
       "    <tr style=\"text-align: right;\">\n",
       "      <th></th>\n",
       "      <th>START</th>\n",
       "      <th>BEGIN</th>\n",
       "    </tr>\n",
       "  </thead>\n",
       "  <tbody>\n",
       "    <tr>\n",
       "      <th>commence</th>\n",
       "      <td>0.303431</td>\n",
       "      <td>0.206818</td>\n",
       "    </tr>\n",
       "    <tr>\n",
       "      <th>journey</th>\n",
       "      <td>0.017039</td>\n",
       "      <td>-0.002023</td>\n",
       "    </tr>\n",
       "    <tr>\n",
       "      <th>machine</th>\n",
       "      <td>0.090921</td>\n",
       "      <td>-0.014076</td>\n",
       "    </tr>\n",
       "    <tr>\n",
       "      <th>movie</th>\n",
       "      <td>0.124855</td>\n",
       "      <td>0.048227</td>\n",
       "    </tr>\n",
       "    <tr>\n",
       "      <th>meeting</th>\n",
       "      <td>0.038327</td>\n",
       "      <td>0.114798</td>\n",
       "    </tr>\n",
       "    <tr>\n",
       "      <th>day</th>\n",
       "      <td>0.017899</td>\n",
       "      <td>0.063794</td>\n",
       "    </tr>\n",
       "    <tr>\n",
       "      <th>business</th>\n",
       "      <td>0.014390</td>\n",
       "      <td>-0.003903</td>\n",
       "    </tr>\n",
       "  </tbody>\n",
       "</table>\n",
       "</div>"
      ],
      "text/plain": [
       "             START     BEGIN\n",
       "commence  0.303431  0.206818\n",
       "journey   0.017039 -0.002023\n",
       "machine   0.090921 -0.014076\n",
       "movie     0.124855  0.048227\n",
       "meeting   0.038327  0.114798\n",
       "day       0.017899  0.063794\n",
       "business  0.014390 -0.003903"
      ]
     },
     "execution_count": 20,
     "metadata": {},
     "output_type": "execute_result"
    }
   ],
   "source": [
    "pd.DataFrame(weight_matrix, index=all_cues, columns=all_outcomes)"
   ]
  },
  {
   "cell_type": "markdown",
   "metadata": {},
   "source": [
    "### Using the Python version of ggplot"
   ]
  },
  {
   "cell_type": "code",
   "execution_count": 21,
   "metadata": {},
   "outputs": [],
   "source": [
    "start = sim01[sim01['Outcomes'] == 'START']"
   ]
  },
  {
   "cell_type": "code",
   "execution_count": 22,
   "metadata": {},
   "outputs": [],
   "source": [
    "# import library for plotting\n",
    "# INSTALLATION\n",
    "# [1] conda install -c conda-forge plotnine\n",
    "# [2] pip install plotnine\n",
    "from plotnine import *"
   ]
  },
  {
   "cell_type": "code",
   "execution_count": 23,
   "metadata": {
    "scrolled": false
   },
   "outputs": [
    {
     "data": {
      "image/png": "[encoded data removed]",
      "text/plain": [
       "<Figure size 640x480 with 1 Axes>"
      ]
     },
     "metadata": {},
     "output_type": "display_data"
    },
    {
     "data": {
      "text/plain": [
       "<ggplot: (8767677297713)>"
      ]
     },
     "execution_count": 23,
     "metadata": {},
     "output_type": "execute_result"
    }
   ],
   "source": [
    "(ggplot(start, aes(x='Trial', y='Weights', colour='Cues')) +\n",
    "\tgeom_line() +\n",
    "\tscale_colour_manual(values=['#a6cee3', '#1f78b4',\n",
    "\t\t'#b2df8a', '#33a02c', '#fb9a99', '#e31a1c', '#fdbf6f']))"
   ]
  },
  {
   "cell_type": "markdown",
   "metadata": {},
   "source": [
    "### Using Python's matplotlib"
   ]
  },
  {
   "cell_type": "code",
   "execution_count": 24,
   "metadata": {},
   "outputs": [],
   "source": [
    "import matplotlib.pyplot as plt"
   ]
  },
  {
   "cell_type": "code",
   "execution_count": 25,
   "metadata": {},
   "outputs": [
    {
     "data": {
      "text/html": [
       "<div>\n",
       "<style scoped>\n",
       "    .dataframe tbody tr th:only-of-type {\n",
       "        vertical-align: middle;\n",
       "    }\n",
       "\n",
       "    .dataframe tbody tr th {\n",
       "        vertical-align: top;\n",
       "    }\n",
       "\n",
       "    .dataframe thead th {\n",
       "        text-align: right;\n",
       "    }\n",
       "</style>\n",
       "<table border=\"1\" class=\"dataframe\">\n",
       "  <thead>\n",
       "    <tr style=\"text-align: right;\">\n",
       "      <th></th>\n",
       "      <th>START_commence</th>\n",
       "      <th>START_journey</th>\n",
       "      <th>START_machine</th>\n",
       "      <th>START_movie</th>\n",
       "      <th>START_meeting</th>\n",
       "      <th>START_day</th>\n",
       "      <th>START_business</th>\n",
       "      <th>BEGIN_commence</th>\n",
       "      <th>BEGIN_journey</th>\n",
       "      <th>BEGIN_machine</th>\n",
       "      <th>BEGIN_movie</th>\n",
       "      <th>BEGIN_meeting</th>\n",
       "      <th>BEGIN_day</th>\n",
       "      <th>BEGIN_business</th>\n",
       "      <th>Trial</th>\n",
       "    </tr>\n",
       "  </thead>\n",
       "  <tbody>\n",
       "    <tr>\n",
       "      <th>0</th>\n",
       "      <td>0.010000</td>\n",
       "      <td>0.010000</td>\n",
       "      <td>0.000000</td>\n",
       "      <td>0.000000</td>\n",
       "      <td>0.000000</td>\n",
       "      <td>0.000000</td>\n",
       "      <td>0.00000</td>\n",
       "      <td>0.000000</td>\n",
       "      <td>0.000000</td>\n",
       "      <td>0.000000</td>\n",
       "      <td>0.000000</td>\n",
       "      <td>0.000000</td>\n",
       "      <td>0.000000</td>\n",
       "      <td>0.000000</td>\n",
       "      <td>1</td>\n",
       "    </tr>\n",
       "    <tr>\n",
       "      <th>1</th>\n",
       "      <td>0.019900</td>\n",
       "      <td>0.010000</td>\n",
       "      <td>0.009900</td>\n",
       "      <td>0.000000</td>\n",
       "      <td>0.000000</td>\n",
       "      <td>0.000000</td>\n",
       "      <td>0.00000</td>\n",
       "      <td>0.000000</td>\n",
       "      <td>0.000000</td>\n",
       "      <td>0.000000</td>\n",
       "      <td>0.000000</td>\n",
       "      <td>0.000000</td>\n",
       "      <td>0.000000</td>\n",
       "      <td>0.000000</td>\n",
       "      <td>2</td>\n",
       "    </tr>\n",
       "    <tr>\n",
       "      <th>2</th>\n",
       "      <td>0.029701</td>\n",
       "      <td>0.010000</td>\n",
       "      <td>0.009900</td>\n",
       "      <td>0.009801</td>\n",
       "      <td>0.000000</td>\n",
       "      <td>0.000000</td>\n",
       "      <td>0.00000</td>\n",
       "      <td>0.000000</td>\n",
       "      <td>0.000000</td>\n",
       "      <td>0.000000</td>\n",
       "      <td>0.000000</td>\n",
       "      <td>0.000000</td>\n",
       "      <td>0.000000</td>\n",
       "      <td>0.000000</td>\n",
       "      <td>3</td>\n",
       "    </tr>\n",
       "    <tr>\n",
       "      <th>3</th>\n",
       "      <td>0.039306</td>\n",
       "      <td>0.010000</td>\n",
       "      <td>0.009900</td>\n",
       "      <td>0.019406</td>\n",
       "      <td>0.000000</td>\n",
       "      <td>0.000000</td>\n",
       "      <td>0.00000</td>\n",
       "      <td>0.000000</td>\n",
       "      <td>0.000000</td>\n",
       "      <td>0.000000</td>\n",
       "      <td>0.000000</td>\n",
       "      <td>0.000000</td>\n",
       "      <td>0.000000</td>\n",
       "      <td>0.000000</td>\n",
       "      <td>4</td>\n",
       "    </tr>\n",
       "    <tr>\n",
       "      <th>4</th>\n",
       "      <td>0.038913</td>\n",
       "      <td>0.010000</td>\n",
       "      <td>0.009900</td>\n",
       "      <td>0.019406</td>\n",
       "      <td>-0.000393</td>\n",
       "      <td>0.000000</td>\n",
       "      <td>0.00000</td>\n",
       "      <td>0.010000</td>\n",
       "      <td>0.000000</td>\n",
       "      <td>0.000000</td>\n",
       "      <td>0.000000</td>\n",
       "      <td>0.010000</td>\n",
       "      <td>0.000000</td>\n",
       "      <td>0.000000</td>\n",
       "      <td>5</td>\n",
       "    </tr>\n",
       "    <tr>\n",
       "      <th>...</th>\n",
       "      <td>...</td>\n",
       "      <td>...</td>\n",
       "      <td>...</td>\n",
       "      <td>...</td>\n",
       "      <td>...</td>\n",
       "      <td>...</td>\n",
       "      <td>...</td>\n",
       "      <td>...</td>\n",
       "      <td>...</td>\n",
       "      <td>...</td>\n",
       "      <td>...</td>\n",
       "      <td>...</td>\n",
       "      <td>...</td>\n",
       "      <td>...</td>\n",
       "      <td>...</td>\n",
       "    </tr>\n",
       "    <tr>\n",
       "      <th>76</th>\n",
       "      <td>0.289069</td>\n",
       "      <td>0.017039</td>\n",
       "      <td>0.090921</td>\n",
       "      <td>0.107064</td>\n",
       "      <td>0.041754</td>\n",
       "      <td>0.017899</td>\n",
       "      <td>0.01439</td>\n",
       "      <td>0.207748</td>\n",
       "      <td>-0.002023</td>\n",
       "      <td>-0.014076</td>\n",
       "      <td>0.056053</td>\n",
       "      <td>0.107902</td>\n",
       "      <td>0.063794</td>\n",
       "      <td>-0.003903</td>\n",
       "      <td>77</td>\n",
       "    </tr>\n",
       "    <tr>\n",
       "      <th>77</th>\n",
       "      <td>0.295108</td>\n",
       "      <td>0.017039</td>\n",
       "      <td>0.090921</td>\n",
       "      <td>0.113103</td>\n",
       "      <td>0.041754</td>\n",
       "      <td>0.017899</td>\n",
       "      <td>0.01439</td>\n",
       "      <td>0.205110</td>\n",
       "      <td>-0.002023</td>\n",
       "      <td>-0.014076</td>\n",
       "      <td>0.053415</td>\n",
       "      <td>0.107902</td>\n",
       "      <td>0.063794</td>\n",
       "      <td>-0.003903</td>\n",
       "      <td>78</td>\n",
       "    </tr>\n",
       "    <tr>\n",
       "      <th>78</th>\n",
       "      <td>0.301025</td>\n",
       "      <td>0.017039</td>\n",
       "      <td>0.090921</td>\n",
       "      <td>0.119021</td>\n",
       "      <td>0.041754</td>\n",
       "      <td>0.017899</td>\n",
       "      <td>0.01439</td>\n",
       "      <td>0.202525</td>\n",
       "      <td>-0.002023</td>\n",
       "      <td>-0.014076</td>\n",
       "      <td>0.050830</td>\n",
       "      <td>0.107902</td>\n",
       "      <td>0.063794</td>\n",
       "      <td>-0.003903</td>\n",
       "      <td>79</td>\n",
       "    </tr>\n",
       "    <tr>\n",
       "      <th>79</th>\n",
       "      <td>0.297598</td>\n",
       "      <td>0.017039</td>\n",
       "      <td>0.090921</td>\n",
       "      <td>0.119021</td>\n",
       "      <td>0.038327</td>\n",
       "      <td>0.017899</td>\n",
       "      <td>0.01439</td>\n",
       "      <td>0.209420</td>\n",
       "      <td>-0.002023</td>\n",
       "      <td>-0.014076</td>\n",
       "      <td>0.050830</td>\n",
       "      <td>0.114798</td>\n",
       "      <td>0.063794</td>\n",
       "      <td>-0.003903</td>\n",
       "      <td>80</td>\n",
       "    </tr>\n",
       "    <tr>\n",
       "      <th>80</th>\n",
       "      <td>0.303431</td>\n",
       "      <td>0.017039</td>\n",
       "      <td>0.090921</td>\n",
       "      <td>0.124855</td>\n",
       "      <td>0.038327</td>\n",
       "      <td>0.017899</td>\n",
       "      <td>0.01439</td>\n",
       "      <td>0.206818</td>\n",
       "      <td>-0.002023</td>\n",
       "      <td>-0.014076</td>\n",
       "      <td>0.048227</td>\n",
       "      <td>0.114798</td>\n",
       "      <td>0.063794</td>\n",
       "      <td>-0.003903</td>\n",
       "      <td>81</td>\n",
       "    </tr>\n",
       "  </tbody>\n",
       "</table>\n",
       "<p>81 rows × 15 columns</p>\n",
       "</div>"
      ],
      "text/plain": [
       "    START_commence  START_journey  START_machine  START_movie  START_meeting  \\\n",
       "0         0.010000       0.010000       0.000000     0.000000       0.000000   \n",
       "1         0.019900       0.010000       0.009900     0.000000       0.000000   \n",
       "2         0.029701       0.010000       0.009900     0.009801       0.000000   \n",
       "3         0.039306       0.010000       0.009900     0.019406       0.000000   \n",
       "4         0.038913       0.010000       0.009900     0.019406      -0.000393   \n",
       "..             ...            ...            ...          ...            ...   \n",
       "76        0.289069       0.017039       0.090921     0.107064       0.041754   \n",
       "77        0.295108       0.017039       0.090921     0.113103       0.041754   \n",
       "78        0.301025       0.017039       0.090921     0.119021       0.041754   \n",
       "79        0.297598       0.017039       0.090921     0.119021       0.038327   \n",
       "80        0.303431       0.017039       0.090921     0.124855       0.038327   \n",
       "\n",
       "    START_day  START_business  BEGIN_commence  BEGIN_journey  BEGIN_machine  \\\n",
       "0    0.000000         0.00000        0.000000       0.000000       0.000000   \n",
       "1    0.000000         0.00000        0.000000       0.000000       0.000000   \n",
       "2    0.000000         0.00000        0.000000       0.000000       0.000000   \n",
       "3    0.000000         0.00000        0.000000       0.000000       0.000000   \n",
       "4    0.000000         0.00000        0.010000       0.000000       0.000000   \n",
       "..        ...             ...             ...            ...            ...   \n",
       "76   0.017899         0.01439        0.207748      -0.002023      -0.014076   \n",
       "77   0.017899         0.01439        0.205110      -0.002023      -0.014076   \n",
       "78   0.017899         0.01439        0.202525      -0.002023      -0.014076   \n",
       "79   0.017899         0.01439        0.209420      -0.002023      -0.014076   \n",
       "80   0.017899         0.01439        0.206818      -0.002023      -0.014076   \n",
       "\n",
       "    BEGIN_movie  BEGIN_meeting  BEGIN_day  BEGIN_business  Trial  \n",
       "0      0.000000       0.000000   0.000000        0.000000      1  \n",
       "1      0.000000       0.000000   0.000000        0.000000      2  \n",
       "2      0.000000       0.000000   0.000000        0.000000      3  \n",
       "3      0.000000       0.000000   0.000000        0.000000      4  \n",
       "4      0.000000       0.010000   0.000000        0.000000      5  \n",
       "..          ...            ...        ...             ...    ...  \n",
       "76     0.056053       0.107902   0.063794       -0.003903     77  \n",
       "77     0.053415       0.107902   0.063794       -0.003903     78  \n",
       "78     0.050830       0.107902   0.063794       -0.003903     79  \n",
       "79     0.050830       0.114798   0.063794       -0.003903     80  \n",
       "80     0.048227       0.114798   0.063794       -0.003903     81  \n",
       "\n",
       "[81 rows x 15 columns]"
      ]
     },
     "execution_count": 25,
     "metadata": {},
     "output_type": "execute_result"
    }
   ],
   "source": [
    "weights_df = pd.DataFrame(weight_matrix_list, columns=[i+'_'+j for i in all_outcomes for j in all_cues])\n",
    "weights_df['Trial'] = np.arange(1, num_events+1, 1)\n",
    "weights_df"
   ]
  },
  {
   "cell_type": "code",
   "execution_count": 26,
   "metadata": {},
   "outputs": [
    {
     "data": {
      "text/plain": [
       "[<matplotlib.lines.Line2D at 0x7f962b1b9e80>]"
      ]
     },
     "execution_count": 26,
     "metadata": {},
     "output_type": "execute_result"
    },
    {
     "data": {
      "image/png": "[encoded data removed]",
      "text/plain": [
       "<Figure size 432x288 with 1 Axes>"
      ]
     },
     "metadata": {
      "needs_background": "light"
     },
     "output_type": "display_data"
    }
   ],
   "source": [
    "plt.plot(weights_df['Trial'], weights_df.iloc[:,[0]], '-k')\n",
    "plt.plot(weights_df['Trial'], weights_df.iloc[:,[1]], '-b')\n",
    "plt.plot(weights_df['Trial'], weights_df.iloc[:,[2]], '-g')\n",
    "plt.plot(weights_df['Trial'], weights_df.iloc[:,[3]], '-r')\n",
    "plt.plot(weights_df['Trial'], weights_df.iloc[:,[4]], '-m')\n",
    "plt.plot(weights_df['Trial'], weights_df.iloc[:,[5]], '-c')\n",
    "plt.plot(weights_df['Trial'], weights_df.iloc[:,[6]], '-y')"
   ]
  },
  {
   "cell_type": "markdown",
   "metadata": {},
   "source": [
    "**THE END**"
   ]
  }
 ],
 "metadata": {
  "kernelspec": {
   "display_name": "Python 3",
   "language": "python",
   "name": "python3"
  },
  "language_info": {
   "codemirror_mode": {
    "name": "ipython",
    "version": 3
   },
   "file_extension": ".py",
   "mimetype": "text/x-python",
   "name": "python",
   "nbconvert_exporter": "python",
   "pygments_lexer": "ipython3",
   "version": "3.8.10"
  }
 },
 "nbformat": 4,
 "nbformat_minor": 2
}
